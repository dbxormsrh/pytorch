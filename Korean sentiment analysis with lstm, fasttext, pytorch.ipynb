{
 "cells": [
  {
   "cell_type": "markdown",
   "metadata": {},
   "source": [
    "#Develop log\n",
    "\n",
    "24.04.19\n",
    "- 학습이 안 되던 문제를 해결. label의 데이터 값이 0, 1로 정수형인데, 이 녀석을 부동소수형으로 변형하여 loss를 계산하던 것이 문제인듯함. label의 값을 LongTensor로 변환하여 loss값을 구하였더니 정상적으로 학습이 됨을 확인함. \n",
    "- 다른 문제로 모델의 성능이 상당히 떨어짐을 확인함. validation의 정확도를 기준으로 5epoch에서 정확도가 최대였음. 해당 epoch에서의 train의 정확도는 72% 가량 나옴. 좀 더 정확도를 올릴 수 있는 방법을 찾아보는 것이 좋을듯 함.\n",
    "- 위와 같이 정확도가 크게 올라가지 못하는 이유로 다음과 같이 추정.\n",
    "fasttext모델을 학습에 사용하는 코퍼스가 아닌 다른 코퍼스를 사용하여 학습함. 여기서부터 오는 약간의 간극과 더불어 학습에 사용된 코퍼스가 맞춤법이 부정확한 댓글의 특성에 더해져 더욱 큰 성능의 감소를 가져왔다고 추정됨.\n",
    "\n",
    "24.04.23\n",
    "- float 이어도 정상적으로 학습이 됨...? 이전 버전의 내용을 확인해봐야 할 필요가 있어보임"
   ]
  },
  {
   "cell_type": "code",
   "execution_count": 1,
   "metadata": {},
   "outputs": [],
   "source": [
    "import pandas as pd\n",
    "import hgtk\n",
    "from tqdm import tqdm\n",
    "import fasttext"
   ]
  },
  {
   "cell_type": "code",
   "execution_count": 2,
   "metadata": {},
   "outputs": [],
   "source": [
    "def decompose(forms:list):\n",
    "    word = ''\n",
    "    for form in forms:\n",
    "        try:\n",
    "            if hgtk.checker.is_hangul(form):\n",
    "                for s in form:\n",
    "                    a, b, c = hgtk.letter.decompose(s)\n",
    "                    if not a:\n",
    "                        a = '-'\n",
    "                    if not b:\n",
    "                        b = '-'\n",
    "                    if not c:\n",
    "                        c = '-'\n",
    "                    word = word + a + b + c\n",
    "        except TypeError as e:\n",
    "            print(form)\n",
    "    return word"
   ]
  },
  {
   "cell_type": "code",
   "execution_count": 3,
   "metadata": {},
   "outputs": [],
   "source": [
    "def compose(jamo_sequence:list):\n",
    "    tokenized_jamo = []\n",
    "    index = 0\n",
    "\n",
    "    while index < len(jamo_sequence):\n",
    "        if not hgtk.checker.is_hangul(jamo_sequence[index]):\n",
    "            tokenized_jamo.append(jamo_sequence[index])\n",
    "            index = index + 1\n",
    "\n",
    "        else:\n",
    "            tokenized_jamo.append(jamo_sequence[index:index + 3])\n",
    "            index = index + 3\n",
    "\n",
    "    word = ''\n",
    "    try:\n",
    "        for jamo in tokenized_jamo:\n",
    "\n",
    "            if len(jamo) == 3:\n",
    "                if jamo[2] == \"-\":\n",
    "                    word = word + hgtk.letter.compose(jamo[0], jamo[1])\n",
    "                else:\n",
    "                    word = word + hgtk.letter.compose(jamo[0], jamo[1], jamo[2])\n",
    "            else:\n",
    "                word = word + jamo\n",
    "\n",
    "    except Exception as exception:\n",
    "        if type(exception).__name__ == 'NotHangulException':\n",
    "            return jamo_sequence\n",
    "\n",
    "    return word"
   ]
  },
  {
   "cell_type": "code",
   "execution_count": 4,
   "metadata": {},
   "outputs": [],
   "source": [
    "fast_model = fasttext.load_model(\"fasttext.bin\") # 모델 로드"
   ]
  },
  {
   "cell_type": "code",
   "execution_count": 5,
   "metadata": {},
   "outputs": [],
   "source": [
    "def transform(word_sequence):\n",
    "    return [(compose(word), similarity) for (similarity, word) in word_sequence]"
   ]
  },
  {
   "cell_type": "code",
   "execution_count": 6,
   "metadata": {
    "collapsed": true
   },
   "outputs": [
    {
     "data": {
      "text/plain": [
       "array([-0.23002268,  0.39805633, -0.595214  , -0.4201808 ,  0.06841939,\n",
       "       -0.23568943,  0.33469296,  0.09796971,  0.10487619,  0.17936371,\n",
       "       -0.04858068,  0.11436544, -0.18841325, -0.1625356 ,  0.03736197,\n",
       "        0.23201014, -0.30488858, -0.11117312, -0.21404381, -0.01474717,\n",
       "        0.13891964, -0.6124201 , -0.3584761 , -0.41327453, -0.21037365,\n",
       "        0.30367267, -0.06418942,  0.20489423, -0.15140772,  0.34683898,\n",
       "       -0.08985352,  0.21257268, -0.07074974,  0.20376125, -0.09280302,\n",
       "       -0.33641914, -0.32314423, -0.19665879, -0.25710115,  0.04477051,\n",
       "       -0.0592188 , -0.04977519,  0.60128856, -0.15175302, -0.6904205 ,\n",
       "       -0.4166109 ,  0.2812419 ,  0.1937623 , -0.70656985, -0.4241435 ,\n",
       "        0.8790712 , -0.02911854, -0.02107281,  0.7127032 ,  0.61294305,\n",
       "       -0.10936469,  0.17948501, -0.3176769 ,  0.06604326,  0.24650899,\n",
       "       -0.4777825 ,  0.52821845, -0.32548603, -0.3195687 ,  0.32848126,\n",
       "        0.50072765,  0.13473417,  0.10986972, -0.09630211,  0.520136  ,\n",
       "        0.27817407,  0.08595612, -0.08750131,  0.21907571, -0.01260473,\n",
       "        0.01257326, -0.04710799, -0.09702913,  0.2330503 , -0.14492422,\n",
       "        0.41477886, -0.46510795, -0.16225938,  0.36350194,  0.17462806,\n",
       "       -0.3060407 ,  0.05309338, -0.1311184 , -0.21973711, -0.8013788 ,\n",
       "       -0.31104523, -0.31066498,  0.12453254, -0.00811013, -0.32685027,\n",
       "        0.3073702 ,  0.4541527 ,  0.27231634,  0.45880464,  0.37605458],\n",
       "      dtype=float32)"
      ]
     },
     "execution_count": 6,
     "metadata": {},
     "output_type": "execute_result"
    }
   ],
   "source": [
    "fast_model.get_word_vector(decompose(['제주도']))"
   ]
  },
  {
   "cell_type": "code",
   "execution_count": 6,
   "metadata": {},
   "outputs": [],
   "source": [
    "from torch.utils.data import random_split, DataLoader, Dataset, TensorDataset\n",
    "from torch import nn\n",
    "import torch.nn.functional as F\n",
    "import torch\n",
    "import numpy as np\n",
    "import matplotlib.pyplot as plt"
   ]
  },
  {
   "cell_type": "code",
   "execution_count": 23,
   "metadata": {},
   "outputs": [],
   "source": [
    "class CustomDataset(Dataset):\n",
    "    def __init__(self, csv_dir, num_word, transform = None, target_transform=None):\n",
    "        self.df = pd.read_csv(csv_dir).sample(frac=1)[:5120]\n",
    "        self.transform = transform\n",
    "        self.target_transform = target_transform\n",
    "        self.num_word = num_word\n",
    "        self.labels = torch.from_numpy(self.df['label'].values).type(torch.float32)\n",
    "            \n",
    "    def __len__(self):\n",
    "        return len(self.df)\n",
    "    \n",
    "    def __getitem__(self, i):\n",
    "        sent = self.df['morphologized_sent'].iloc[i]\n",
    "        padded_vec = torch.zeros((self.num_word, fast_model.get_dimension()), dtype = torch.float32)\n",
    "        \n",
    "        sent2vec = [] \n",
    "        for w in sent:\n",
    "            if w.rstrip():\n",
    "                sent2vec.append(fast_model.get_word_vector(decompose(w)))\n",
    "        sent2vec = np.array(sent2vec)\n",
    "        len_sent = len(sent2vec)\n",
    "        if len_sent > self.num_word:\n",
    "            len_sent = self.num_word\n",
    "        padded_vec[(self.num_word - len_sent):] = torch.from_numpy(sent2vec[:len_sent])\n",
    "        return (padded_vec, self.labels[i])"
   ]
  },
  {
   "cell_type": "code",
   "execution_count": 24,
   "metadata": {},
   "outputs": [],
   "source": [
    "dataset = CustomDataset('./morphologized_ratings.csv', num_word=32)"
   ]
  },
  {
   "cell_type": "code",
   "execution_count": 205,
   "metadata": {},
   "outputs": [
    {
     "data": {
      "image/png": "[encoded data removed]",
      "text/plain": [
       "<Figure size 432x288 with 1 Axes>"
      ]
     },
     "metadata": {},
     "output_type": "display_data"
    },
    {
     "data": {
      "text/plain": [
       "count    5120.000000\n",
       "mean       18.410352\n",
       "std        15.474022\n",
       "min         1.000000\n",
       "25%         8.000000\n",
       "50%        14.000000\n",
       "75%        22.000000\n",
       "max        95.000000\n",
       "dtype: float64"
      ]
     },
     "execution_count": 205,
     "metadata": {},
     "output_type": "execute_result"
    }
   ],
   "source": [
    "sent_len = [len(s.split()) for s in dataset.df['morphologized_sent']]\n",
    "pd.Series(sent_len).hist()\n",
    "plt.show()\n",
    "pd.Series(sent_len).describe()"
   ]
  },
  {
   "cell_type": "code",
   "execution_count": 210,
   "metadata": {},
   "outputs": [
    {
     "data": {
      "text/plain": [
       "5120"
      ]
     },
     "execution_count": 210,
     "metadata": {},
     "output_type": "execute_result"
    }
   ],
   "source": [
    "len(sent_len)"
   ]
  },
  {
   "cell_type": "code",
   "execution_count": 208,
   "metadata": {},
   "outputs": [],
   "source": [
    "from collections import defaultdict\n",
    "\n",
    "dic = defaultdict(int)\n",
    "\n",
    "for n in sent_len:\n",
    "    dic[n] += 1"
   ]
  },
  {
   "cell_type": "code",
   "execution_count": 211,
   "metadata": {},
   "outputs": [
    {
     "name": "stdout",
     "output_type": "stream",
     "text": [
      "83 1\n"
     ]
    }
   ],
   "source": [
    "i = 0\n",
    "for k, v in dic.items():\n",
    "    i += v\n",
    "    \n",
    "    if i//len(sent_len) * 100 > 90:\n",
    "        print(k, v)"
   ]
  },
  {
   "cell_type": "code",
   "execution_count": 25,
   "metadata": {},
   "outputs": [],
   "source": [
    "train_size = int(len(dataset) * 0.8)\n",
    "valid_size = len(dataset) - train_size\n",
    "batch_size = 32"
   ]
  },
  {
   "cell_type": "code",
   "execution_count": 26,
   "metadata": {},
   "outputs": [],
   "source": [
    "train_data, valid_data = random_split(dataset, [train_size, valid_size])"
   ]
  },
  {
   "cell_type": "code",
   "execution_count": 27,
   "metadata": {},
   "outputs": [],
   "source": [
    "train_dataloader = DataLoader(train_data, batch_size = batch_size, shuffle=True)\n",
    "valid_dataloader = DataLoader(valid_data, batch_size = batch_size, shuffle=True)"
   ]
  },
  {
   "cell_type": "code",
   "execution_count": 28,
   "metadata": {
    "scrolled": true
   },
   "outputs": [
    {
     "name": "stdout",
     "output_type": "stream",
     "text": [
      "tensor([[[ 0.0000,  0.0000,  0.0000,  ...,  0.0000,  0.0000,  0.0000],\n",
      "         [ 0.0000,  0.0000,  0.0000,  ...,  0.0000,  0.0000,  0.0000],\n",
      "         [ 0.0000,  0.0000,  0.0000,  ...,  0.0000,  0.0000,  0.0000],\n",
      "         ...,\n",
      "         [-4.5480,  1.2421, -1.7386,  ..., -1.6190,  2.8765,  0.8209],\n",
      "         [-1.7304,  2.6166,  0.5414,  ...,  1.4530, -1.5455, -1.4455],\n",
      "         [ 1.2498, -0.2578, -1.8190,  ..., -1.3858,  1.6934, -1.5809]],\n",
      "\n",
      "        [[ 0.0000,  0.0000,  0.0000,  ...,  0.0000,  0.0000,  0.0000],\n",
      "         [ 0.0000,  0.0000,  0.0000,  ...,  0.0000,  0.0000,  0.0000],\n",
      "         [ 0.0000,  0.0000,  0.0000,  ...,  0.0000,  0.0000,  0.0000],\n",
      "         ...,\n",
      "         [-1.2103,  0.5804,  0.2195,  ...,  0.3175, -0.2119, -1.7805],\n",
      "         [ 0.1659, -0.6087,  0.1546,  ..., -0.9509, -0.0108,  0.2266],\n",
      "         [ 0.2321,  1.9788, -0.6688,  ...,  0.5960,  1.1090,  0.1995]],\n",
      "\n",
      "        [[ 0.0000,  0.0000,  0.0000,  ...,  0.0000,  0.0000,  0.0000],\n",
      "         [ 0.0000,  0.0000,  0.0000,  ...,  0.0000,  0.0000,  0.0000],\n",
      "         [ 0.0000,  0.0000,  0.0000,  ...,  0.0000,  0.0000,  0.0000],\n",
      "         ...,\n",
      "         [ 0.9451,  0.3340, -0.1737,  ...,  0.9322,  2.1342, -1.2812],\n",
      "         [ 0.5070,  0.2970,  0.7016,  ...,  0.3528,  1.4861,  0.1744],\n",
      "         [-1.8654, -0.4066,  0.2171,  ..., -3.6876, -0.2413,  2.6383]],\n",
      "\n",
      "        ...,\n",
      "\n",
      "        [[ 0.0000,  0.0000,  0.0000,  ...,  0.0000,  0.0000,  0.0000],\n",
      "         [ 0.0000,  0.0000,  0.0000,  ...,  0.0000,  0.0000,  0.0000],\n",
      "         [ 0.0000,  0.0000,  0.0000,  ...,  0.0000,  0.0000,  0.0000],\n",
      "         ...,\n",
      "         [ 1.8326,  1.0531, -1.4970,  ..., -2.4243,  2.4148,  1.3296],\n",
      "         [ 1.3736,  0.6902,  0.8422,  ...,  1.4951, -1.5982, -1.1776],\n",
      "         [-2.4481, -1.4472,  0.6393,  ..., -0.3453,  1.2120,  0.5644]],\n",
      "\n",
      "        [[ 0.0000,  0.0000,  0.0000,  ...,  0.0000,  0.0000,  0.0000],\n",
      "         [ 0.0000,  0.0000,  0.0000,  ...,  0.0000,  0.0000,  0.0000],\n",
      "         [ 0.0000,  0.0000,  0.0000,  ...,  0.0000,  0.0000,  0.0000],\n",
      "         ...,\n",
      "         [-0.0153,  0.0114, -1.2735,  ...,  0.6496, -1.4506, -0.3060],\n",
      "         [-0.3726, -0.8360,  0.4161,  ..., -2.1604, -1.6342,  1.2181],\n",
      "         [ 0.0816, -0.1010,  0.2689,  ..., -0.8388,  0.5277,  0.1298]],\n",
      "\n",
      "        [[ 0.0000,  0.0000,  0.0000,  ...,  0.0000,  0.0000,  0.0000],\n",
      "         [ 0.0000,  0.0000,  0.0000,  ...,  0.0000,  0.0000,  0.0000],\n",
      "         [ 0.0000,  0.0000,  0.0000,  ...,  0.0000,  0.0000,  0.0000],\n",
      "         ...,\n",
      "         [-2.4481, -1.4472,  0.6393,  ..., -0.3453,  1.2120,  0.5644],\n",
      "         [ 1.0607,  0.8873, -1.8214,  ..., -1.4492, -0.8222, -1.1355],\n",
      "         [ 1.0775, -1.2141, -0.7095,  ..., -1.4625, -0.8575, -0.7205]]])\n",
      "tensor([0., 0., 1., 1., 0., 1., 1., 0., 0., 1., 0., 0., 0., 0., 1., 1., 0., 0.,\n",
      "        1., 0., 1., 1., 1., 0., 1., 0., 0., 0., 1., 1., 0., 1.])\n",
      "torch.Size([32, 32, 100])\n"
     ]
    }
   ],
   "source": [
    "train_sent, train_label = next(iter(train_dataloader))\n",
    "print(train_sent)\n",
    "print(train_label)\n",
    "print(train_sent.size())"
   ]
  },
  {
   "cell_type": "code",
   "execution_count": 13,
   "metadata": {},
   "outputs": [],
   "source": [
    "class SentimentLSTM(nn.Module):\n",
    "    def __init__(self, input_size, hidden_size, num_layers, output_dim, num_word):\n",
    "        super(SentimentLSTM, self).__init__()\n",
    "        self.hidden_size = hidden_size\n",
    "        self.input_size = input_size\n",
    "        self.num_layers = num_layers\n",
    "        self.output_dim = output_dim\n",
    "        \n",
    "        self.lstm = nn.LSTM(input_size=self.input_size, hidden_size=self.hidden_size, num_layers=num_layers,batch_first = True)\n",
    "        \n",
    "        self.linear = nn.Linear(self.hidden_size, self.output_dim)\n",
    "        self.dropout = nn.Dropout(0.3)\n",
    "        self.sig = nn.Sigmoid()\n",
    "        \n",
    "    def forward(self, x, hidden):\n",
    "        batch_size = x.size(0)\n",
    "        lstm_out, h = self.lstm(x, hidden)\n",
    "        \n",
    "        drop_out = self.dropout(lstm_out)\n",
    "        re_drop_out = drop_out.reshape([-1, self.hidden_size])\n",
    "            \n",
    "        linear_out = self.linear(re_drop_out)\n",
    "        \n",
    "        sig_out = self.sig(linear_out).reshape([batch_size, -1])[:, -1]\n",
    "        \n",
    "        return sig_out, h\n",
    "        \n",
    "    def init_hidden(self, batch_size, device):\n",
    "        h0 = torch.zeros((self.num_layers, batch_size, self.hidden_size), dtype=torch.float32).to(device)\n",
    "        c0 = torch.zeros((self.num_layers, batch_size, self.hidden_size), dtype=torch.float32).to(device)\n",
    "        \n",
    "        return (h0, c0)"
   ]
  },
  {
   "cell_type": "code",
   "execution_count": 14,
   "metadata": {},
   "outputs": [],
   "source": [
    "num_layers = 2\n",
    "input_size = 100\n",
    "hidden_size = 128\n",
    "output_dim = 1\n",
    "\n",
    "num_word = 32\n",
    "\n",
    "device = (\n",
    "    \"cuda\"\n",
    "    if torch.cuda.is_available()\n",
    "    else \"mps\"\n",
    "    if torch.backends.mps.is_available()\n",
    "    else \"cpu\"\n",
    ")"
   ]
  },
  {
   "cell_type": "code",
   "execution_count": 30,
   "metadata": {},
   "outputs": [],
   "source": [
    "lstm_model = SentimentLSTM(input_size=input_size, hidden_size=hidden_size, num_layers=num_layers, output_dim=output_dim, num_word=num_word)"
   ]
  },
  {
   "cell_type": "code",
   "execution_count": 31,
   "metadata": {},
   "outputs": [
    {
     "data": {
      "text/plain": [
       "SentimentLSTM(\n",
       "  (lstm): LSTM(100, 128, num_layers=2, batch_first=True)\n",
       "  (linear): Linear(in_features=128, out_features=1, bias=True)\n",
       "  (dropout): Dropout(p=0.3, inplace=False)\n",
       "  (sig): Sigmoid()\n",
       ")"
      ]
     },
     "execution_count": 31,
     "metadata": {},
     "output_type": "execute_result"
    }
   ],
   "source": [
    "lstm_model.to(device)"
   ]
  },
  {
   "cell_type": "code",
   "execution_count": 32,
   "metadata": {},
   "outputs": [],
   "source": [
    "lr = 0.001\n",
    "clip = 5\n",
    "epochs = 5\n",
    "\n",
    "loss_func = nn.BCELoss()#.to(device)\n",
    "optimizer = torch.optim.Adam(lstm_model.parameters(), lr = lr)\n",
    "\n",
    "def acc(pred, label):\n",
    "    correct = torch.eq(pred.round(), label).sum().item()\n",
    "    return correct"
   ]
  },
  {
   "cell_type": "code",
   "execution_count": 33,
   "metadata": {
    "scrolled": false
   },
   "outputs": [
    {
     "name": "stderr",
     "output_type": "stream",
     "text": [
      "100%|██████████| 128/128 [00:14<00:00,  8.61it/s]\n",
      "100%|██████████| 32/32 [00:02<00:00, 11.76it/s]\n"
     ]
    },
    {
     "name": "stdout",
     "output_type": "stream",
     "text": [
      "Epoch 1\n",
      "train_loss : 0.6348762358538806 val_loss : 0.5925723323598504\n",
      "train_accuracy : 62.5 val_accuracy : 68.1640625\n",
      "==================================================\n"
     ]
    },
    {
     "name": "stderr",
     "output_type": "stream",
     "text": [
      "100%|██████████| 128/128 [00:14<00:00,  8.78it/s]\n",
      "100%|██████████| 32/32 [00:02<00:00, 11.70it/s]\n"
     ]
    },
    {
     "name": "stdout",
     "output_type": "stream",
     "text": [
      "Epoch 2\n",
      "train_loss : 0.562733787111938 val_loss : 0.5763476183637977\n",
      "train_accuracy : 70.3369140625 val_accuracy : 68.75\n",
      "==================================================\n"
     ]
    },
    {
     "name": "stderr",
     "output_type": "stream",
     "text": [
      "100%|██████████| 128/128 [00:14<00:00,  8.70it/s]\n",
      "100%|██████████| 32/32 [00:02<00:00, 11.59it/s]\n"
     ]
    },
    {
     "name": "stdout",
     "output_type": "stream",
     "text": [
      "Epoch 3\n",
      "train_loss : 0.5090813080314547 val_loss : 0.5856834994629025\n",
      "train_accuracy : 74.6337890625 val_accuracy : 70.21484375\n",
      "==================================================\n"
     ]
    },
    {
     "name": "stderr",
     "output_type": "stream",
     "text": [
      "100%|██████████| 128/128 [00:14<00:00,  8.72it/s]\n",
      "100%|██████████| 32/32 [00:02<00:00, 11.68it/s]\n"
     ]
    },
    {
     "name": "stdout",
     "output_type": "stream",
     "text": [
      "Epoch 4\n",
      "train_loss : 0.4395584841258824 val_loss : 0.5908776009455323\n",
      "train_accuracy : 79.3212890625 val_accuracy : 72.8515625\n",
      "==================================================\n"
     ]
    },
    {
     "name": "stderr",
     "output_type": "stream",
     "text": [
      "100%|██████████| 128/128 [00:14<00:00,  8.73it/s]\n",
      "100%|██████████| 32/32 [00:02<00:00, 11.72it/s]"
     ]
    },
    {
     "name": "stdout",
     "output_type": "stream",
     "text": [
      "Epoch 5\n",
      "train_loss : 0.3561248602345586 val_loss : 0.600461745634675\n",
      "train_accuracy : 84.1796875 val_accuracy : 70.8984375\n",
      "==================================================\n"
     ]
    },
    {
     "name": "stderr",
     "output_type": "stream",
     "text": [
      "\n"
     ]
    }
   ],
   "source": [
    "epoch_tr_acc, epoch_tr_loss = [], []\n",
    "epoch_vl_acc, epoch_vl_loss = [],[]\n",
    "for epoch in range(epochs):\n",
    "    train_losses = []\n",
    "    train_acc = 0.0\n",
    "    lstm_model.train()\n",
    "    h = lstm_model.init_hidden(batch_size, device)\n",
    "\n",
    "    for inputs, labels in tqdm(train_dataloader):\n",
    "        inputs, labels = inputs.to(device), labels.to(device)\n",
    "        \n",
    "        h = tuple([each.data for each in h])\n",
    "        \n",
    "        pred, h = lstm_model(inputs, h)\n",
    "        \n",
    "        loss = loss_func(pred, labels)\n",
    "        optimizer.zero_grad()\n",
    "        loss.backward()\n",
    "        train_losses.append(loss.item())\n",
    "        \n",
    "        accuracy = acc(pred, labels)\n",
    "\n",
    "        train_acc += accuracy\n",
    "        \n",
    "        nn.utils.clip_grad_norm_(lstm_model.parameters(), clip)\n",
    "        optimizer.step()\n",
    "    epoch_train_loss = np.mean(train_losses)\n",
    "    epoch_train_acc = train_acc/len(train_dataloader.dataset)\n",
    "    epoch_tr_loss.append(epoch_train_loss)\n",
    "    epoch_tr_acc.append(epoch_train_acc)\n",
    "    \n",
    "    val_losses = []\n",
    "    val_acc = 0.0\n",
    "    lstm_model.eval()\n",
    "    val_h = lstm_model.init_hidden(batch_size, device)\n",
    "\n",
    "    for inputs, labels in tqdm(valid_dataloader):\n",
    "        inputs, labels = inputs.to(device), labels.to(device)\n",
    "        val_h = tuple([each.data for each in val_h])\n",
    "        pred, val_h = lstm_model(inputs, val_h)\n",
    "\n",
    "        val_loss = loss_func(pred, labels.float())\n",
    "        val_losses.append(val_loss.item())\n",
    "        accuracy = acc(pred, labels)\n",
    "\n",
    "        val_acc += accuracy\n",
    "    \n",
    "    epoch_val_loss = np.mean(val_losses)\n",
    "    epoch_val_acc = val_acc/len(valid_dataloader.dataset)\n",
    "    epoch_vl_loss.append(epoch_val_loss)\n",
    "    epoch_vl_acc.append(epoch_val_acc)\n",
    "\n",
    "    print(f'Epoch {epoch+1}') \n",
    "    print(f'train_loss : {epoch_train_loss} val_loss : {epoch_val_loss}')\n",
    "    print(f'train_accuracy : {epoch_train_acc*100} val_accuracy : {epoch_val_acc*100}')\n",
    "    print(25*'==')"
   ]
  },
  {
   "cell_type": "code",
   "execution_count": 22,
   "metadata": {},
   "outputs": [
    {
     "data": {
      "image/png": "[encoded data removed]",
      "text/plain": [
       "<Figure size 1440x432 with 2 Axes>"
      ]
     },
     "metadata": {},
     "output_type": "display_data"
    }
   ],
   "source": [
    "fig = plt.figure(figsize = (20, 6))\n",
    "plt.subplot(1, 2, 1)\n",
    "plt.plot(epoch_tr_acc, label='Train Acc')\n",
    "plt.plot(epoch_vl_acc, label='Validation Acc')\n",
    "plt.title(\"Accuracy\")\n",
    "plt.legend()\n",
    "plt.grid()\n",
    "    \n",
    "plt.subplot(1, 2, 2)\n",
    "plt.plot(epoch_tr_loss, label='Train loss')\n",
    "plt.plot(epoch_vl_loss, label='Validation loss')\n",
    "plt.title(\"Loss\")\n",
    "plt.legend()\n",
    "plt.grid()\n",
    "\n",
    "plt.show()"
   ]
  },
  {
   "cell_type": "code",
   "execution_count": null,
   "metadata": {},
   "outputs": [],
   "source": []
  }
 ],
 "metadata": {
  "kernelspec": {
   "display_name": "Python 3",
   "language": "python",
   "name": "python3"
  },
  "language_info": {
   "codemirror_mode": {
    "name": "ipython",
    "version": 3
   },
   "file_extension": ".py",
   "mimetype": "text/x-python",
   "name": "python",
   "nbconvert_exporter": "python",
   "pygments_lexer": "ipython3",
   "version": "3.6.9"
  }
 },
 "nbformat": 4,
 "nbformat_minor": 2
}
