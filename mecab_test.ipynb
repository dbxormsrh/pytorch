{
 "cells": [
  {
   "cell_type": "code",
   "execution_count": 1,
   "metadata": {},
   "outputs": [],
   "source": [
    "from konlpy.tag import Mecab"
   ]
  },
  {
   "cell_type": "code",
   "execution_count": 2,
   "metadata": {},
   "outputs": [],
   "source": [
    "m = Mecab()"
   ]
  },
  {
   "cell_type": "code",
   "execution_count": 3,
   "metadata": {
    "scrolled": true
   },
   "outputs": [],
   "source": [
    "x = m.pos(\"내 뒤를 따르지 마시오, 나는 그대를 이끌고싶지 않소. 내 앞에 나서지 마시오, 나는 그대를 따르고싶지 않소. 다만, 내 옆에서 나란히 걸으시오, 우리가 하나가 될 수 있도록.\")"
   ]
  },
  {
   "cell_type": "code",
   "execution_count": 4,
   "metadata": {},
   "outputs": [
    {
     "data": {
      "text/plain": [
       "[('When', 'SL'),\n",
       " ('you', 'SL'),\n",
       " ('have', 'SL'),\n",
       " ('faults', 'SL'),\n",
       " (',', 'SC'),\n",
       " ('do', 'SL'),\n",
       " ('not', 'SL'),\n",
       " ('fear', 'SL'),\n",
       " ('to', 'SL'),\n",
       " ('abandon', 'SL'),\n",
       " ('them', 'SL'),\n",
       " ('.', 'SF')]"
      ]
     },
     "execution_count": 4,
     "metadata": {},
     "output_type": "execute_result"
    }
   ],
   "source": [
    "m.pos(\"When you have faults, do not fear to abandon them.\")"
   ]
  },
  {
   "cell_type": "code",
   "execution_count": 6,
   "metadata": {},
   "outputs": [
    {
     "name": "stdout",
     "output_type": "stream",
     "text": [
      "('내', 'NP+JKG')\n",
      "('뒤', 'NNG')\n",
      "('를', 'JKO')\n",
      "('따르', 'VV')\n",
      "('지', 'EC')\n",
      "('마시', 'VV')\n",
      "('오', 'EF')\n",
      "(',', 'SC')\n",
      "('나', 'NP')\n",
      "('는', 'JX')\n",
      "('그대', 'NP')\n",
      "('를', 'JKO')\n",
      "('이끌', 'VV')\n",
      "('고', 'EC')\n",
      "('싶', 'VX')\n",
      "('지', 'EC')\n",
      "('않', 'VX')\n",
      "('소', 'EF')\n",
      "('.', 'SF')\n",
      "('내', 'NP+JKG')\n",
      "('앞', 'NNG')\n",
      "('에', 'JKB')\n",
      "('나서', 'VV')\n",
      "('지', 'EC')\n",
      "('마시', 'VV')\n",
      "('오', 'EF')\n",
      "(',', 'SC')\n",
      "('나', 'NP')\n",
      "('는', 'JX')\n",
      "('그대', 'NP')\n",
      "('를', 'JKO')\n",
      "('따르', 'VV')\n",
      "('고', 'EC')\n",
      "('싶', 'VX')\n",
      "('지', 'EC')\n",
      "('않', 'VX')\n",
      "('소', 'EF')\n",
      "('.', 'SF')\n",
      "('다만', 'MAJ')\n",
      "(',', 'SC')\n",
      "('내', 'MM')\n",
      "('옆', 'NNG')\n",
      "('에서', 'JKB')\n",
      "('나란히', 'MAG')\n",
      "('걸', 'VV')\n",
      "('으시오', 'EC')\n",
      "(',', 'SC')\n",
      "('우리', 'NP')\n",
      "('가', 'JKS')\n",
      "('하나', 'NR')\n",
      "('가', 'JKS')\n",
      "('될', 'VV+ETM')\n",
      "('수', 'NNB')\n",
      "('있', 'VV')\n",
      "('도록', 'EF')\n",
      "('.', 'SF')\n"
     ]
    }
   ],
   "source": [
    "for i in x:\n",
    "    #if 'NP' in i[1] or 'NN' in i[1]:\n",
    "   print(i)ㄷ"
   ]
  },
  {
   "cell_type": "code",
   "execution_count": null,
   "metadata": {},
   "outputs": [],
   "source": []
  }
 ],
 "metadata": {
  "kernelspec": {
   "display_name": "Python 3",
   "language": "python",
   "name": "python3"
  },
  "language_info": {
   "codemirror_mode": {
    "name": "ipython",
    "version": 3
   },
   "file_extension": ".py",
   "mimetype": "text/x-python",
   "name": "python",
   "nbconvert_exporter": "python",
   "pygments_lexer": "ipython3",
   "version": "3.6.9"
  }
 },
 "nbformat": 4,
 "nbformat_minor": 2
}
