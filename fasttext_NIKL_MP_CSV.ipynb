{
 "cells": [
  {
   "cell_type": "code",
   "execution_count": 1,
   "metadata": {},
   "outputs": [],
   "source": [
    "import re\n",
    "import pandas as pd\n",
    "import urllib.request\n",
    "from tqdm import tqdm\n",
    "import hgtk\n",
    "import pandas as pd\n",
    "from tqdm import tqdm"
   ]
  },
  {
   "cell_type": "code",
   "execution_count": 17,
   "metadata": {},
   "outputs": [],
   "source": [
    "import fasttext"
   ]
  },
  {
   "cell_type": "code",
   "execution_count": 27,
   "metadata": {},
   "outputs": [],
   "source": [
    "def word_to_jamo(token):\n",
    "    def to_special_token(jamo):\n",
    "        if not jamo:\n",
    "            return '-'\n",
    "        else:\n",
    "            return jamo\n",
    "    decomposed_token = ''\n",
    "    for char in token:\n",
    "        try:\n",
    "            # char(음절)을 초성, 중성, 종성으로 분리\n",
    "            cho, jung, jong = hgtk.letter.decompose(char)\n",
    "\n",
    "            # 자모가 빈 문자일 경우 특수문자 -로 대체\n",
    "            cho = to_special_token(cho)\n",
    "            jung = to_special_token(jung)\n",
    "            jong = to_special_token(jong)\n",
    "            decomposed_token = decomposed_token + cho + jung + jong\n",
    "\n",
    "        # 만약 char(음절)이 한글이 아닐 경우 자모를 나누지 않고 추가\n",
    "        except Exception as exception:\n",
    "            if type(exception).__name__ == 'NotHangulException':\n",
    "                decomposed_token += char\n",
    "    # 단어 토큰의 자모 단위 분리 결과를 추가\n",
    "    return decomposed_token"
   ]
  },
  {
   "cell_type": "code",
   "execution_count": 4,
   "metadata": {},
   "outputs": [],
   "source": [
    "csv_dir = '../NIKL_MP_CSV/NXMP1902008040_{}.csv'"
   ]
  },
  {
   "cell_type": "code",
   "execution_count": 56,
   "metadata": {
    "scrolled": true
   },
   "outputs": [
    {
     "name": "stdout",
     "output_type": "stream",
     "text": [
      "../NIKL_MP_CSV/NXMP1902008040_1.csv\n"
     ]
    },
    {
     "name": "stderr",
     "output_type": "stream",
     "text": [
      "1000000it [01:03, 15647.35it/s]\n"
     ]
    },
    {
     "name": "stdout",
     "output_type": "stream",
     "text": [
      "../NIKL_MP_CSV/NXMP1902008040_2.csv\n"
     ]
    },
    {
     "name": "stderr",
     "output_type": "stream",
     "text": [
      "1000000it [01:04, 15562.78it/s]\n"
     ]
    },
    {
     "name": "stdout",
     "output_type": "stream",
     "text": [
      "../NIKL_MP_CSV/NXMP1902008040_3.csv\n"
     ]
    },
    {
     "name": "stderr",
     "output_type": "stream",
     "text": [
      "1000000it [01:04, 15581.48it/s]\n"
     ]
    },
    {
     "name": "stdout",
     "output_type": "stream",
     "text": [
      "../NIKL_MP_CSV/NXMP1902008040_4.csv\n"
     ]
    },
    {
     "name": "stderr",
     "output_type": "stream",
     "text": [
      "1000000it [01:04, 15492.71it/s]\n"
     ]
    },
    {
     "name": "stdout",
     "output_type": "stream",
     "text": [
      "../NIKL_MP_CSV/NXMP1902008040_5.csv\n"
     ]
    },
    {
     "name": "stderr",
     "output_type": "stream",
     "text": [
      "559602it [00:35, 15559.65it/s]\n"
     ]
    }
   ],
   "source": [
    "with open('tokenized_data.txt', 'w') as out:\n",
    "    for i in range(5):\n",
    "        df = pd.read_csv(csv_dir.format(i + 1))\n",
    "        print(csv_dir.format(i + 1))\n",
    "        form_series = df['form'].values\n",
    "        ids = df['id'].values\n",
    "        forms = ''\n",
    "        for form, idx in tqdm(zip(form_series, ids)):\n",
    "            if idx == 1:\n",
    "                forms = word_to_jamo(forms)\n",
    "                out.write(forms + '\\n')\n",
    "                forms = ''\n",
    "            forms += form + ' '"
   ]
  },
  {
   "cell_type": "code",
   "execution_count": 47,
   "metadata": {},
   "outputs": [],
   "source": [
    "def jamo_to_word(jamo_sequence):\n",
    "    tokenized_jamo = []\n",
    "    index = 0\n",
    "\n",
    "    # 1. 초기 입력\n",
    "    # jamo_sequence = 'ㄴㅏㅁㄷㅗㅇㅅㅐㅇ'\n",
    "\n",
    "    while index < len(jamo_sequence):\n",
    "        # 문자가 한글(정상적인 자모)이 아닐 경우\n",
    "        if not hgtk.checker.is_hangul(jamo_sequence[index]):\n",
    "            tokenized_jamo.append(jamo_sequence[index])\n",
    "            index = index + 1\n",
    "\n",
    "        # 문자가 정상적인 자모라면 초성, 중성, 종성을 하나의 토큰으로 간주.\n",
    "        else:\n",
    "            tokenized_jamo.append(jamo_sequence[index:index + 3])\n",
    "            index = index + 3\n",
    "\n",
    "    # 2. 자모 단위 토큰화 완료\n",
    "    # tokenized_jamo : ['ㄴㅏㅁ', 'ㄷㅗㅇ', 'ㅅㅐㅇ']\n",
    "\n",
    "    word = ''\n",
    "    try:\n",
    "        for jamo in tokenized_jamo:\n",
    "\n",
    "            # 초성, 중성, 종성의 묶음으로 추정되는 경우\n",
    "            if len(jamo) == 3:\n",
    "                if jamo[2] == \"-\":\n",
    "                    # 종성이 존재하지 않는 경우\n",
    "                    word = word + hgtk.letter.compose(jamo[0], jamo[1])\n",
    "                else:\n",
    "                    # 종성이 존재하는 경우\n",
    "                    word = word + hgtk.letter.compose(jamo[0], jamo[1], jamo[2])\n",
    "            # 한글이 아닌 경우\n",
    "            else:\n",
    "                word = word + jamo\n",
    "\n",
    "    # 복원 중(hgtk.letter.compose) 에러 발생 시 초기 입력 리턴.\n",
    "    # 복원이 불가능한 경우 예시) 'ㄴ!ㅁㄷㅗㅇㅅㅐㅇ'\n",
    "    except Exception as exception:\n",
    "        if type(exception).__name__ == 'NotHangulException':\n",
    "            return jamo_sequence\n",
    "\n",
    "    # 3. 단어로 복원 완료\n",
    "    # word : '남동생'\n",
    "\n",
    "    return word"
   ]
  },
  {
   "cell_type": "code",
   "execution_count": 45,
   "metadata": {},
   "outputs": [],
   "source": [
    "def transform(word_sequence):\n",
    "    return [(jamo_to_word(word), similarity) for (similarity, word) in word_sequence]"
   ]
  },
  {
   "cell_type": "code",
   "execution_count": 57,
   "metadata": {},
   "outputs": [],
   "source": [
    "model = fasttext.train_unsupervised('tokenized_data.txt', model='cbow')"
   ]
  },
  {
   "cell_type": "code",
   "execution_count": 58,
   "metadata": {
    "scrolled": true
   },
   "outputs": [],
   "source": [
    "model.save_model(\"fasttext_with_NIKL_MP_CSV.bin\") # 모델 저장"
   ]
  },
  {
   "cell_type": "code",
   "execution_count": 59,
   "metadata": {},
   "outputs": [],
   "source": [
    "model = fasttext.load_model(\"fasttext_with_NIKL_MP_CSV.bin\") # 모델 로드"
   ]
  },
  {
   "cell_type": "code",
   "execution_count": 63,
   "metadata": {},
   "outputs": [
    {
     "data": {
      "text/plain": [
       "array([[ 1.3172704 , -2.6030622 , -2.6381116 , ...,  4.1049676 ,\n",
       "        -1.9797415 ,  1.6904285 ],\n",
       "       [ 8.051485  ,  4.290622  ,  9.813015  , ...,  8.874257  ,\n",
       "        -5.1378565 , -3.8676076 ],\n",
       "       [ 2.0295978 ,  1.0167238 , -0.35376626, ...,  2.0631907 ,\n",
       "        -1.3718491 ,  2.4111595 ],\n",
       "       ...,\n",
       "       [ 0.        ,  0.        ,  0.        , ...,  0.        ,\n",
       "         0.        ,  0.        ],\n",
       "       [ 0.        ,  0.        ,  0.        , ...,  0.        ,\n",
       "         0.        ,  0.        ],\n",
       "       [ 0.        ,  0.        ,  0.        , ...,  0.        ,\n",
       "         0.        ,  0.        ]], dtype=float32)"
      ]
     },
     "execution_count": 63,
     "metadata": {},
     "output_type": "execute_result"
    }
   ],
   "source": [
    "model.get_input_matrix()"
   ]
  },
  {
   "cell_type": "code",
   "execution_count": 64,
   "metadata": {
    "scrolled": true
   },
   "outputs": [
    {
     "data": {
      "text/plain": [
       "array([-1.05719745e+00, -1.22204649e+00, -8.70347559e-01,  1.03027868e+00,\n",
       "        1.10074043e+00, -7.09483445e-01,  8.26699436e-02,  9.39434826e-01,\n",
       "       -6.09719872e-01, -3.80814821e-01,  9.14730355e-02,  3.44184041e-02,\n",
       "        2.26223215e-01, -8.51046622e-01, -4.20999765e-01,  1.19344115e+00,\n",
       "        4.79467541e-01,  8.11064914e-02, -6.17881119e-01, -4.45593417e-01,\n",
       "       -9.48177040e-01,  1.10318832e-01,  2.47502010e-02, -3.92870419e-02,\n",
       "        1.68602001e-02, -6.93905726e-02, -8.83604646e-01,  2.66338438e-01,\n",
       "       -5.58378696e-01, -7.66422153e-01, -3.21070224e-01, -2.77237445e-01,\n",
       "       -1.50739098e+00, -8.00510645e-01, -1.03784405e-01, -1.80575177e-01,\n",
       "       -1.53279707e-01, -2.30275422e-01, -3.40472497e-02, -4.64885861e-01,\n",
       "        2.24142209e-01,  1.86688170e-01,  2.81072080e-01,  1.03564394e+00,\n",
       "        2.44351640e-01,  8.61467645e-02,  1.38720810e-01,  5.05607188e-01,\n",
       "        1.21292867e-01, -1.07393074e+00, -1.00271070e+00, -6.26787543e-01,\n",
       "       -4.82832193e-01, -4.32817340e-01,  1.58010554e+00, -1.93191343e-03,\n",
       "       -1.18023503e+00,  6.47885859e-01, -6.08368874e-01,  4.72080745e-02,\n",
       "        1.13487709e+00,  1.65166229e-01, -2.88033068e-01, -4.15760167e-02,\n",
       "        8.70053887e-01, -7.33126327e-03, -5.33816636e-01, -5.23408473e-01,\n",
       "        4.09962356e-01,  8.51391196e-01,  1.50308579e-01, -2.21715108e-01,\n",
       "       -2.90014088e-01, -9.27785695e-01,  1.54295361e+00, -4.63300437e-01,\n",
       "       -5.77523470e-01,  2.49112666e-01,  8.55175614e-01,  7.61754394e-01,\n",
       "        8.63305933e-04,  6.90747321e-01, -1.56457937e+00,  1.74385712e-01,\n",
       "       -1.52810514e+00, -8.09446514e-01, -2.92191625e-01,  8.35074842e-01,\n",
       "        3.44953477e-01, -3.10863376e-01,  1.94047958e-01,  4.35250551e-01,\n",
       "       -4.82932571e-03,  5.93877852e-01,  6.88442409e-01,  1.08357751e+00,\n",
       "       -5.79128563e-01, -5.25823832e-01,  1.41826248e+00, -2.10469827e-01],\n",
       "      dtype=float32)"
      ]
     },
     "execution_count": 64,
     "metadata": {},
     "output_type": "execute_result"
    }
   ],
   "source": [
    "model[word_to_jamo('제주도')]"
   ]
  },
  {
   "cell_type": "code",
   "execution_count": 80,
   "metadata": {},
   "outputs": [
    {
     "data": {
      "text/plain": [
       "[('북', 0.8500924110412598),\n",
       " ('북녘', 0.810660183429718),\n",
       " ('북향', 0.8033188581466675),\n",
       " ('뒷북', 0.8031451106071472),\n",
       " ('북·중', 0.780265748500824),\n",
       " ('북벌', 0.7786989212036133),\n",
       " ('북풍', 0.7652722597122192),\n",
       " ('북핵', 0.7651371955871582),\n",
       " ('북단', 0.7599114775657654),\n",
       " ('북촌', 0.757582426071167)]"
      ]
     },
     "execution_count": 80,
     "metadata": {},
     "output_type": "execute_result"
    }
   ],
   "source": [
    "transform(model.get_nearest_neighbors(word_to_jamo('북극'), k=10))"
   ]
  },
  {
   "cell_type": "code",
   "execution_count": null,
   "metadata": {},
   "outputs": [],
   "source": []
  }
 ],
 "metadata": {
  "kernelspec": {
   "display_name": "Python 3",
   "language": "python",
   "name": "python3"
  },
  "language_info": {
   "codemirror_mode": {
    "name": "ipython",
    "version": 3
   },
   "file_extension": ".py",
   "mimetype": "text/x-python",
   "name": "python",
   "nbconvert_exporter": "python",
   "pygments_lexer": "ipython3",
   "version": "3.6.9"
  }
 },
 "nbformat": 4,
 "nbformat_minor": 2
}
