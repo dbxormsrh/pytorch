{
 "cells": [
  {
   "cell_type": "code",
   "execution_count": 1,
   "metadata": {},
   "outputs": [],
   "source": [
    "from konlpy.tag import Okt"
   ]
  },
  {
   "cell_type": "code",
   "execution_count": 5,
   "metadata": {},
   "outputs": [],
   "source": [
    "import re\n",
    "import konlpy\n",
    "from konlpy.tag import Okt\n",
    "import nltk\n",
    "from nltk.corpus import stopwords"
   ]
  },
  {
   "cell_type": "code",
   "execution_count": 6,
   "metadata": {
    "scrolled": true
   },
   "outputs": [
    {
     "name": "stderr",
     "output_type": "stream",
     "text": [
      "[nltk_data] Downloading package stopwords to /home/jetson/nltk_data...\n",
      "[nltk_data]   Unzipping corpora/stopwords.zip.\n",
      "[nltk_data] Downloading package punkt to /home/jetson/nltk_data...\n",
      "[nltk_data]   Unzipping tokenizers/punkt.zip.\n"
     ]
    }
   ],
   "source": [
    "nltk.download(\"stopwords\")\n",
    "nltk.download(\"punkt\")\n",
    "stop_words = stopwords.words(\"english\")"
   ]
  },
  {
   "cell_type": "code",
   "execution_count": 7,
   "metadata": {},
   "outputs": [],
   "source": [
    "def preprocess_text(text):\n",
    "    # 토큰화\n",
    "    tokens = Okt().morphs(text)\n",
    "\n",
    "    # 불용어 제거\n",
    "    stopwords = [\"은\", \"는\", \"이\", \"가\", \"을\", \"를\", \"의\", \"가까운\", \"있다\"]\n",
    "    tokens = [token for token in tokens if token not in stopwords]\n",
    "\n",
    "    # 정규 표현식에 따라 특정 문자 제거\n",
    "    tokens = [re.sub(r\"[,.!?]\", \"\", token) for token in tokens]\n",
    "\n",
    "    return tokens"
   ]
  },
  {
   "cell_type": "code",
   "execution_count": 40,
   "metadata": {},
   "outputs": [],
   "source": [
    "def extract_nouns1(text):\n",
    "    tokens = re.findall(r\"\\b[가-나]+\\b\", text)\n",
    "    return tokens\n",
    "\n",
    "\n",
    "def extract_nouns(text):\n",
    "    nouns = konlpy.tag.Okt().nouns(text)\n",
    "    return nouns"
   ]
  },
  {
   "cell_type": "code",
   "execution_count": 10,
   "metadata": {},
   "outputs": [],
   "source": [
    "def morph_process(text):\n",
    "    nouns = extract_nouns(text)\n",
    "    text = \" \".join(nouns)\n",
    "    tokens = preprocess_text(text)\n",
    "    return tokens"
   ]
  },
  {
   "cell_type": "code",
   "execution_count": 11,
   "metadata": {},
   "outputs": [],
   "source": [
    "def post_process(tokens):\n",
    "    while \"\" in tokens:\n",
    "        tokens.remove(\"\")\n",
    "    if len(tokens) > 1:\n",
    "        print(tokens)"
   ]
  },
  {
   "cell_type": "code",
   "execution_count": 12,
   "metadata": {},
   "outputs": [],
   "source": [
    "def e_morph_process(text):\n",
    "    result = []\n",
    "    tokens = nltk.word_tokenize(text)\n",
    "    pos_tags = nltk.pos_tag(tokens)\n",
    "    for tag in pos_tags:\n",
    "        if tag[1] == \"NN\":\n",
    "            result.append(tag[0])\n",
    "    return result"
   ]
  },
  {
   "cell_type": "code",
   "execution_count": 14,
   "metadata": {},
   "outputs": [
    {
     "name": "stdout",
     "output_type": "stream",
     "text": [
      "['오늘', '날씨', '밥', '산책']\n"
     ]
    }
   ],
   "source": [
    "textList = []\n",
    "# extract nouns\n",
    "if __name__ == \"__main__\":\n",
    "    textList.append(\"오늘은 날씨가 좋아요. school 밥 먹고 산책을 가야겠어요.\")\n",
    "    textList.append(\"The quick brown Fox jumps over the lazy dog.\")\n",
    "\n",
    "    for text in textList:\n",
    "        tokens = morph_process(text)\n",
    "        post_process(tokens)\n",
    "        if len(tokens) == 0:\n",
    "            #text = preprocess(text)\n",
    "            result = e_morph_process(text)\n",
    "            print(result)"
   ]
  },
  {
   "cell_type": "code",
   "execution_count": 30,
   "metadata": {},
   "outputs": [],
   "source": [
    "t = \"The quick brown Fox jumps over the lazy dog.\""
   ]
  },
  {
   "cell_type": "code",
   "execution_count": 36,
   "metadata": {},
   "outputs": [],
   "source": [
    "t1 =\"오늘은 날씨가 좋아요. school 밥 먹고 산책을 가야겠어요.\""
   ]
  },
  {
   "cell_type": "code",
   "execution_count": 37,
   "metadata": {},
   "outputs": [],
   "source": [
    "m = morph_process(t1)"
   ]
  },
  {
   "cell_type": "code",
   "execution_count": 41,
   "metadata": {},
   "outputs": [
    {
     "data": {
      "text/plain": [
       "[]"
      ]
     },
     "execution_count": 41,
     "metadata": {},
     "output_type": "execute_result"
    }
   ],
   "source": [
    "extract_nouns1(t1)"
   ]
  },
  {
   "cell_type": "code",
   "execution_count": 42,
   "metadata": {},
   "outputs": [],
   "source": [
    "import json"
   ]
  },
  {
   "cell_type": "code",
   "execution_count": null,
   "metadata": {},
   "outputs": [],
   "source": []
  }
 ],
 "metadata": {
  "kernelspec": {
   "display_name": "Python 3",
   "language": "python",
   "name": "python3"
  },
  "language_info": {
   "codemirror_mode": {
    "name": "ipython",
    "version": 3
   },
   "file_extension": ".py",
   "mimetype": "text/x-python",
   "name": "python",
   "nbconvert_exporter": "python",
   "pygments_lexer": "ipython3",
   "version": "3.6.9"
  }
 },
 "nbformat": 4,
 "nbformat_minor": 2
}
