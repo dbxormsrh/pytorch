{
 "cells": [
  {
   "cell_type": "code",
   "execution_count": 1,
   "metadata": {},
   "outputs": [],
   "source": [
    "ko_str = '내 뒤를 따르지 마시오, 나는 그대를 이끌고싶지 않소. 내 앞에 나서지 마시오, 나는 그대를 따르고싶지 않소. 다만 내 옆에서 나란히 걸으시오, 우리가 하나가 될 수 있도록.'"
   ]
  },
  {
   "cell_type": "code",
   "execution_count": 2,
   "metadata": {},
   "outputs": [
    {
     "data": {
      "text/plain": [
       "'내 뒤를 따르지 마시오, 나는 그대를 이끌고싶지 않소. 내 앞에 나서지 마시오, 나는 그대를 따르고싶지 않소. 다만 내 옆에서 나란히 걸으시오, 우리가 하나가 될 수 있도록.'"
      ]
     },
     "execution_count": 2,
     "metadata": {},
     "output_type": "execute_result"
    }
   ],
   "source": [
    "ko_str"
   ]
  },
  {
   "cell_type": "code",
   "execution_count": 4,
   "metadata": {},
   "outputs": [],
   "source": [
    "splitted_str = ko_str.split(' ')"
   ]
  },
  {
   "cell_type": "code",
   "execution_count": 5,
   "metadata": {},
   "outputs": [
    {
     "data": {
      "text/plain": [
       "['내',\n",
       " '뒤를',\n",
       " '따르지',\n",
       " '마시오,',\n",
       " '나는',\n",
       " '그대를',\n",
       " '이끌고싶지',\n",
       " '않소.',\n",
       " '내',\n",
       " '앞에',\n",
       " '나서지',\n",
       " '마시오,',\n",
       " '나는',\n",
       " '그대를',\n",
       " '따르고싶지',\n",
       " '않소.',\n",
       " '다만',\n",
       " '내',\n",
       " '옆에서',\n",
       " '나란히',\n",
       " '걸으시오,',\n",
       " '우리가',\n",
       " '하나가',\n",
       " '될',\n",
       " '수',\n",
       " '있도록.']"
      ]
     },
     "execution_count": 5,
     "metadata": {},
     "output_type": "execute_result"
    }
   ],
   "source": [
    "splitted_str"
   ]
  },
  {
   "cell_type": "code",
   "execution_count": null,
   "metadata": {},
   "outputs": [],
   "source": []
  }
 ],
 "metadata": {
  "kernelspec": {
   "display_name": "Python 3",
   "language": "python",
   "name": "python3"
  },
  "language_info": {
   "codemirror_mode": {
    "name": "ipython",
    "version": 3
   },
   "file_extension": ".py",
   "mimetype": "text/x-python",
   "name": "python",
   "nbconvert_exporter": "python",
   "pygments_lexer": "ipython3",
   "version": "3.6.9"
  }
 },
 "nbformat": 4,
 "nbformat_minor": 2
}
